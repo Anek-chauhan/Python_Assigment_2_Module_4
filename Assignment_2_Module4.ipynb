{
 "cells": [
  {
   "cell_type": "code",
   "execution_count": 1,
   "id": "4a7a5cf2-51dd-4cb2-a007-ecf3175d7f56",
   "metadata": {},
   "outputs": [],
   "source": [
    "# 1Write a code to reverse a string?"
   ]
  },
  {
   "cell_type": "code",
   "execution_count": 2,
   "id": "ee521c1d-806b-41e3-9a45-550119e28c0e",
   "metadata": {},
   "outputs": [
    {
     "name": "stdout",
     "output_type": "stream",
     "text": [
      "kenA\n"
     ]
    }
   ],
   "source": [
    "my_string=\"Anek\"\n",
    "rev_string=my_string[::-1]\n",
    "print(rev_string)"
   ]
  },
  {
   "cell_type": "code",
   "execution_count": 3,
   "id": "b06bd5c0-752b-472d-b44a-478d546b78be",
   "metadata": {},
   "outputs": [],
   "source": [
    "#2 Write a code to count the number of vowels in a string?"
   ]
  },
  {
   "cell_type": "code",
   "execution_count": 7,
   "id": "97c6a1bb-f578-4500-a48a-85e49f2f469a",
   "metadata": {},
   "outputs": [
    {
     "data": {
      "text/plain": [
       "2"
      ]
     },
     "execution_count": 7,
     "metadata": {},
     "output_type": "execute_result"
    }
   ],
   "source": [
    "def Count_volwels(str1):\n",
    "    Count=0\n",
    "    for str in str1: \n",
    "        if(str==\"a\" or str==\"e\" or str==\"i\" or str==\"o\" or str==\"u\" or str==\"A\" or str==\"E\" or str==\"I\" or str ==\"O\" or str==\"U\"):\n",
    "            Count=Count+1\n",
    "    return Count\n",
    "Count_volwels(\"Anek\")    "
   ]
  },
  {
   "cell_type": "code",
   "execution_count": null,
   "id": "cea44646-e3d4-40bb-9a8b-bcab82be3b6a",
   "metadata": {},
   "outputs": [],
   "source": [
    "#3 Write a code to check if a given string is a palindrome or not"
   ]
  },
  {
   "cell_type": "code",
   "execution_count": null,
   "id": "8a2bd0b2-414f-4b9c-aab5-62af6bf0bf80",
   "metadata": {},
   "outputs": [],
   "source": [
    "def palindrome_check():\n",
    "    my_string=input(\"Enter a string\")\n",
    "    rev_string=my_string[::-1]\n",
    "    if(rev_string==my_string):\n",
    "        print(\"it is a palindrome\")\n",
    "    else:\n",
    "        print(\"it is not a palindrome\")      "
   ]
  },
  {
   "cell_type": "code",
   "execution_count": 14,
   "id": "1c3c86f5-981d-4103-a500-ac818a0c67a3",
   "metadata": {},
   "outputs": [
    {
     "name": "stdin",
     "output_type": "stream",
     "text": [
      "Enter a string Anek\n"
     ]
    },
    {
     "name": "stdout",
     "output_type": "stream",
     "text": [
      "it is not a palindrome\n"
     ]
    }
   ],
   "source": [
    "palendrom_check()"
   ]
  },
  {
   "cell_type": "code",
   "execution_count": 15,
   "id": "cc8c45c3-f377-48e8-9ae9-0b3850c07d1a",
   "metadata": {},
   "outputs": [
    {
     "name": "stdin",
     "output_type": "stream",
     "text": [
      "Enter a string AnnA\n"
     ]
    },
    {
     "name": "stdout",
     "output_type": "stream",
     "text": [
      "it is a palindrome\n"
     ]
    }
   ],
   "source": [
    "palendrom_check()"
   ]
  },
  {
   "cell_type": "code",
   "execution_count": 28,
   "id": "d47ab78e-f232-4e3d-a894-25f037e75bb9",
   "metadata": {},
   "outputs": [],
   "source": [
    "#4 Write a code to check if two given strings are anagrams of each other?\n",
    "def anagram_check(str1,str2):\n",
    "    if(sorted(str1)==sorted(str2)):\n",
    "        print(\"anagram\")\n",
    "    else:\n",
    "        print(\"Not a anagram\")"
   ]
  },
  {
   "cell_type": "code",
   "execution_count": 29,
   "id": "04f0fdec-ae00-46bf-8825-ec020d8838f5",
   "metadata": {},
   "outputs": [
    {
     "name": "stdout",
     "output_type": "stream",
     "text": [
      "Not a anagram\n"
     ]
    }
   ],
   "source": [
    "anagram_check(\"My name is Anek\",\"KenA My name is\")"
   ]
  },
  {
   "cell_type": "code",
   "execution_count": 31,
   "id": "164c31aa-14a3-4db9-ae8d-0c4be84eef63",
   "metadata": {},
   "outputs": [
    {
     "name": "stdout",
     "output_type": "stream",
     "text": [
      "anagram\n"
     ]
    }
   ],
   "source": [
    "anagram_check(\"Anek\",\"kenA\")"
   ]
  },
  {
   "cell_type": "code",
   "execution_count": 60,
   "id": "718f8ed2-4bdd-4f8b-b278-fdbe03cddd3b",
   "metadata": {},
   "outputs": [
    {
     "name": "stdout",
     "output_type": "stream",
     "text": [
      "found 3\n",
      "found 0\n"
     ]
    }
   ],
   "source": [
    "# 5Write a code to find all occurrences of a given substring within another string?\n",
    "def occurrence_check(str1,str2):\n",
    "    Counter=0\n",
    "    str1=list(str1.split(\" \"))\n",
    "    for i in str1:\n",
    "        for j in range(0,len(i)):\n",
    "            if(str2[0]==i[j]):\n",
    "                if(i.startswith(str2,j)):\n",
    "                    Counter+=1\n",
    "    print(\"found\",Counter)               \n",
    "occurrence_check(\"My nameAnek is AnekAnek\",\"Anek\")  \n",
    "occurrence_check(\"My nameAnek is AnekAnek\",\"Palak\")  "
   ]
  },
  {
   "cell_type": "code",
   "execution_count": 86,
   "id": "c9182f17-9fa8-4bee-b243-8b6af7065681",
   "metadata": {},
   "outputs": [
    {
     "name": "stdout",
     "output_type": "stream",
     "text": [
      "Compressed String AnekPlads\n"
     ]
    }
   ],
   "source": [
    "# 6 Write a code to perform basic string compression using the counts of repeated characters?\n",
    "def string_compression(str1):\n",
    "    res=\"\"\n",
    "    str1=list(str1)\n",
    "    for i in str1:\n",
    "        if i not in res:\n",
    "            res+=i\n",
    "    print(\"Compressed String\",res)    \n",
    "string_compression(\"AnekkPAlakkkkkkdsdsd\")    "
   ]
  },
  {
   "cell_type": "code",
   "execution_count": 94,
   "id": "55f01ce4-42b4-4712-bf95-20fd42e5712b",
   "metadata": {},
   "outputs": [
    {
     "name": "stdout",
     "output_type": "stream",
     "text": [
      "unique characters\n",
      "Not all unique\n",
      "unique characters\n"
     ]
    }
   ],
   "source": [
    "#7 Write a code to determine if a string has all unique character?\n",
    "def string_unique(str1):\n",
    "    res=\"\"\n",
    "    str2=str1\n",
    "    str1=list(str1)\n",
    "    for i in str1:\n",
    "        if i not in res:\n",
    "            res+=i\n",
    "    if(res==str2):\n",
    "        print(\"unique characters\")\n",
    "    else:\n",
    "        print(\"Not all unique\")    \n",
    "string_unique(\"Anek\")\n",
    "string_unique(\"Palak\")\n",
    "string_unique(\"Ansh\")"
   ]
  },
  {
   "cell_type": "code",
   "execution_count": 96,
   "id": "2868f480-74f1-4aab-9586-9b6989a2ff10",
   "metadata": {},
   "outputs": [
    {
     "name": "stdin",
     "output_type": "stream",
     "text": [
      "Enter the String Anek\n",
      "Enter L for Lowercase conversion Or U for upper case conversion U\n"
     ]
    },
    {
     "name": "stdout",
     "output_type": "stream",
     "text": [
      "ANEK\n"
     ]
    }
   ],
   "source": [
    "#8 Write a code to convert a given string to uppercase or lowercase?\n",
    "str1=input(\"Enter the String\")\n",
    "condition=input(\"Enter L for Lowercase conversion Or U for upper case conversion\")\n",
    "if(condition==\"L\"):\n",
    "    print(str1.lower())\n",
    "elif (condition==\"U\"):\n",
    "    print(str1.upper())\n",
    "else:\n",
    "    print(\"wrong input try again\")"
   ]
  },
  {
   "cell_type": "code",
   "execution_count": 102,
   "id": "d5b529bb-92bc-4290-9ddb-81a9f8489d70",
   "metadata": {},
   "outputs": [
    {
     "name": "stdin",
     "output_type": "stream",
     "text": [
      "Enter a String My name is Anek Chuahna\n"
     ]
    },
    {
     "name": "stdout",
     "output_type": "stream",
     "text": [
      "5\n"
     ]
    }
   ],
   "source": [
    "# 9 Write a code to count the number of words in a string?\n",
    "str1=len((input(\"Enter a String\").split(\" \")))\n",
    "print(str1)"
   ]
  },
  {
   "cell_type": "code",
   "execution_count": 109,
   "id": "837d05de-65c7-4d27-a06b-424b17b22d85",
   "metadata": {},
   "outputs": [
    {
     "name": "stdin",
     "output_type": "stream",
     "text": [
      "enter the str1 Anek\n",
      "enter the str2 Palak\n"
     ]
    },
    {
     "name": "stdout",
     "output_type": "stream",
     "text": [
      "AnekPalak\n"
     ]
    }
   ],
   "source": [
    "#10 Write a code to concatenate two strings without using the + operator?\n",
    "def str_conc(str1,str2):\n",
    "    return \"\".join([str1,str2])\n",
    "s1=input(\"enter the str1\")\n",
    "s2=input(\"enter the str2\")\n",
    "print(str_conc(s1,s2))"
   ]
  },
  {
   "cell_type": "code",
   "execution_count": 123,
   "id": "d6df7ff9-43da-4abf-9ece-712765430267",
   "metadata": {},
   "outputs": [
    {
     "name": "stdin",
     "output_type": "stream",
     "text": [
      "Enter the list seperated with space Anek Chauhan Anek Chauhan new delhi new\n",
      "Enter the element to be removed from the list Anek\n"
     ]
    },
    {
     "name": "stdout",
     "output_type": "stream",
     "text": [
      "input list ['Anek', 'Chauhan', 'Anek', 'Chauhan', 'new', 'delhi', 'new']\n",
      "Output list ['Chauhan', 'Chauhan', 'new', 'delhi', 'new']\n"
     ]
    }
   ],
   "source": [
    "#11 Write a code to remove all occurrences of a specific element from a list?\n",
    "def occr_remove(str1,str2):\n",
    "    str1=str1.split(\" \")\n",
    "    print(\"input list\",str1)\n",
    "    for i in str1:\n",
    "        if (i==str2):\n",
    "            str1.remove(i)\n",
    "    return str1    \n",
    "str1 =input(\"Enter the list seperated with space\")\n",
    "str2 =input(\"Enter the element to be removed from the list\")\n",
    "print(\"Output list\", occr_remove(str1,str2))"
   ]
  },
  {
   "cell_type": "code",
   "execution_count": 156,
   "id": "3a841054-f7d7-4dc8-bd5a-72a7a709a22b",
   "metadata": {},
   "outputs": [
    {
     "name": "stdin",
     "output_type": "stream",
     "text": [
      "Enter the list of numbers comma sperated 2,4,5,6,33,22,44\n"
     ]
    },
    {
     "name": "stdout",
     "output_type": "stream",
     "text": [
      "33\n"
     ]
    }
   ],
   "source": [
    "#12 Implement a code to find the second largest number in a given list of integers?\n",
    "def second_largest():\n",
    "    l=list(map(int,(input(\"Enter the list of numbers comma sperated\").split(\",\"))))\n",
    "    l.sort()\n",
    "    print(l[-2])\n",
    "second_largest()    "
   ]
  },
  {
   "cell_type": "code",
   "execution_count": 166,
   "id": "0ab5ab82-406d-4aa2-b476-8dd6fb8c8ae8",
   "metadata": {},
   "outputs": [
    {
     "name": "stdout",
     "output_type": "stream",
     "text": [
      "{'Anek': 2, 'Chauhan': 1, 'Palak': 2, 'Chawla': 1, 'Anu': 1}\n"
     ]
    }
   ],
   "source": [
    "#13 Create a code to count the occurrences of each element in a list and return a dictionary with elements as \n",
    "#keys and their counts as values\n",
    "def fre_counter(str1):\n",
    "    dic={}\n",
    "    str1=str1.split(\" \")\n",
    "    for i in str1:\n",
    "        if(i not in list(dic.keys())):\n",
    "            dic[i]=1\n",
    "        else:\n",
    "            dic[i]+=1\n",
    "    print(dic)           \n",
    "fre_counter(\"Anek Anek Chauhan Palak Chawla Palak Anu\")            "
   ]
  },
  {
   "cell_type": "code",
   "execution_count": 174,
   "id": "03cf2e4b-7cf9-4d5e-87ce-fb1c4c193234",
   "metadata": {},
   "outputs": [
    {
     "name": "stdin",
     "output_type": "stream",
     "text": [
      "Enter the list with space seprated Anek Chauhan Palak Chawla Shiva Chauhan\n"
     ]
    },
    {
     "name": "stdout",
     "output_type": "stream",
     "text": [
      "['Chauhan', 'Shiva', 'Chawla', 'Palak', 'Chauhan', 'Anek']\n"
     ]
    }
   ],
   "source": [
    "#14 Write a code to reverse a list in-place without using any built-in reverse functions?\n",
    "def rev_list(str1):\n",
    "    str2=[]\n",
    "    str1=str1.split(\" \")\n",
    "    for i in range(len(str1)-1,-1,-1):\n",
    "        str2.append(str1[i])\n",
    "    return str2\n",
    "print(rev_list(input(\"Enter the list with space seprated\")))    "
   ]
  },
  {
   "cell_type": "code",
   "execution_count": 177,
   "id": "342491b9-f1e0-4bf9-afa4-d5d98c0003c9",
   "metadata": {},
   "outputs": [
    {
     "name": "stdout",
     "output_type": "stream",
     "text": [
      "['Anek', 'Chauhan', 'Palak', 'Chawla', 'Shiva']\n"
     ]
    }
   ],
   "source": [
    "# 15 Implement a code to find and remove duplicates from a list while preserving the original order of\n",
    "#elements?\n",
    "def rem_dup(str1):\n",
    "    lis=[]\n",
    "    str1=str1.split(\" \")\n",
    "    for i in str1:\n",
    "        if(i not in lis):\n",
    "            lis.append(i)\n",
    "    print(lis)\n",
    "rem_dup(\"Anek Chauhan Palak Chawla Shiva Chauhan Chawla Chauhan\")"
   ]
  },
  {
   "cell_type": "code",
   "execution_count": 180,
   "id": "da00f080-1e29-4313-a16b-eef4f403da2d",
   "metadata": {},
   "outputs": [
    {
     "name": "stdin",
     "output_type": "stream",
     "text": [
      "Enter the list of numbers separated by commas:  5,4,3,2,1\n"
     ]
    },
    {
     "name": "stdout",
     "output_type": "stream",
     "text": [
      "The list is sorted in descending order.\n"
     ]
    }
   ],
   "source": [
    "# 16 Create a code to check if a given list is sorted (either in ascending or descending order) or not?\n",
    "def check_sorted(lst):\n",
    "    if lst == sorted(lst):\n",
    "        return \"The list is sorted in ascending order.\"\n",
    "    elif lst == sorted(lst, reverse=True):\n",
    "        return \"The list is sorted in descending order.\"\n",
    "    else:\n",
    "        return \"The list is not sorted.\"\n",
    "lst = list(map(int, input(\"Enter the list of numbers separated by commas: \").split(',')))\n",
    "print(check_sorted(lst))        "
   ]
  },
  {
   "cell_type": "code",
   "execution_count": 187,
   "id": "3694daf7-e9aa-40df-96ae-8c90565746cc",
   "metadata": {},
   "outputs": [
    {
     "name": "stdin",
     "output_type": "stream",
     "text": [
      "Enter the comma seperated list1 1,2,1\n",
      "Enter the comma seperated list2 4,5,2\n"
     ]
    },
    {
     "name": "stdout",
     "output_type": "stream",
     "text": [
      "[1, 1, 2, 2, 4, 5]\n"
     ]
    }
   ],
   "source": [
    "# 17 Write a code to merge two sorted lists into a single sorted list?\n",
    "def merge_sort(lis1,lis2):\n",
    "    lis3=sorted(lis1)+sorted(lis2)\n",
    "    return lis3\n",
    "print(merge_sort(map(int,input(\"Enter the comma seperated list1\").split(\",\")) ,map(int,input(\"Enter the comma seperated list2\").split(\",\"))))"
   ]
  },
  {
   "cell_type": "code",
   "execution_count": 188,
   "id": "9eed7a15-0680-4bdd-8712-5b3bc89c351a",
   "metadata": {},
   "outputs": [
    {
     "name": "stdin",
     "output_type": "stream",
     "text": [
      "Enter the comma seperated list1 1,2,3,4\n",
      "Enter the comma seperated list2 2,3,4,5\n"
     ]
    },
    {
     "name": "stdout",
     "output_type": "stream",
     "text": [
      "{1, 2, 3, 4, 5}\n"
     ]
    }
   ],
   "source": [
    "# 18 Implement a code to find the intersection of two given lists?\n",
    "def union_fun(lis1,lis2):\n",
    "    lis1=set(lis1)\n",
    "    lis2=set(lis2)\n",
    "    return lis1 | lis2\n",
    "print(union_fun(map(int,input(\"Enter the comma seperated list1\").split(\",\")) ,map(int,input(\"Enter the comma seperated list2\").split(\",\"))))    "
   ]
  },
  {
   "cell_type": "code",
   "execution_count": 189,
   "id": "f348bb13-abac-4ec4-ac83-547d29f1a917",
   "metadata": {},
   "outputs": [
    {
     "name": "stdin",
     "output_type": "stream",
     "text": [
      "Enter the comma seperated list1 1,2,3,4,4,4\n",
      "Enter the comma seperated list2 4,6,7,7,8\n"
     ]
    },
    {
     "name": "stdout",
     "output_type": "stream",
     "text": [
      "{1, 2, 3, 4, 6, 7, 8}\n"
     ]
    }
   ],
   "source": [
    "# 19 Create a code to find the union of two lists without duplicates?\n",
    "def union_fun(lis1,lis2):\n",
    "    lis1=set(lis1)\n",
    "    lis2=set(lis2)\n",
    "    return lis1 | lis2\n",
    "print(union_fun(map(int,input(\"Enter the comma seperated list1\").split(\",\")) ,map(int,input(\"Enter the comma seperated list2\").split(\",\"))))    "
   ]
  },
  {
   "cell_type": "code",
   "execution_count": 5,
   "id": "4ee46379-647a-4a1a-92aa-576cd331742f",
   "metadata": {},
   "outputs": [
    {
     "name": "stdin",
     "output_type": "stream",
     "text": [
      "Enter a comma seperated list of elements 1,2,3,4,5\n"
     ]
    },
    {
     "name": "stdout",
     "output_type": "stream",
     "text": [
      "['2', '4', '1', '5', '3']\n"
     ]
    }
   ],
   "source": [
    "# 20 Write a code to shuffle a given list randomly without using any built-in shuffle functions?\n",
    "import random\n",
    "def shuffle(str1):\n",
    "    for i in range (0,len(str1)):\n",
    "        j=random.randint(0,len(str1)-1)\n",
    "        str1[i],str1[j]=str1[j],str1[i]\n",
    "    return str1    \n",
    "print(shuffle(input(\"Enter a comma seperated list of elements\").split(\",\")))    "
   ]
  },
  {
   "cell_type": "code",
   "execution_count": 6,
   "id": "11eb4888-22f4-488b-b6b2-7a19f1feff35",
   "metadata": {},
   "outputs": [
    {
     "name": "stdout",
     "output_type": "stream",
     "text": [
      "(4, 5)\n"
     ]
    }
   ],
   "source": [
    "# 21 Write a code that takes two tuples as input and returns a new tuple containing elements that are\n",
    "#common to both input tuples.\n",
    "def common_elements(tuple1, tuple2):\n",
    "    common_set = set(tuple1) & set(tuple2)\n",
    "    return tuple(common_set)\n",
    "tuple1 = (1, 2, 3, 4, 5)\n",
    "tuple2 = (4, 5, 6, 7, 8)\n",
    "result = common_elements(tuple1, tuple2)\n",
    "print(result)"
   ]
  },
  {
   "cell_type": "code",
   "execution_count": 11,
   "id": "f9d17006-ca11-46fb-9dcb-e39a731db900",
   "metadata": {},
   "outputs": [
    {
     "name": "stdin",
     "output_type": "stream",
     "text": [
      "Enter list commma 1,2,3,4,5\n",
      "Enter list commma 3,4,5,5,6\n"
     ]
    },
    {
     "name": "stdout",
     "output_type": "stream",
     "text": [
      "{3, 4, 5}\n"
     ]
    }
   ],
   "source": [
    "# 22 Create a code that prompts the user to enter two sets of integers separated by commas. Then, print the\n",
    "#intersection of these two sets?\n",
    "def inter(lis1,lis2):\n",
    "    return set(lis1) & set(lis2)\n",
    "print(inter(map(int,input(\"Enter list commma\").split(\",\")),map(int,input(\"Enter list commma\").split(\",\"))))"
   ]
  },
  {
   "cell_type": "code",
   "execution_count": 12,
   "id": "1af632fa-d07c-466d-be10-13a95cbeb04c",
   "metadata": {},
   "outputs": [
    {
     "name": "stdin",
     "output_type": "stream",
     "text": [
      "Enter a tup1 1,2,3,4\n",
      "Enter a tup2 5,6,7,8\n"
     ]
    },
    {
     "name": "stdout",
     "output_type": "stream",
     "text": [
      "('1', '2', '3', '4', '5', '6', '7', '8')\n"
     ]
    }
   ],
   "source": [
    "# 23 Write a code to concatenate two tuples. The function should take two tuples as input and return a new\n",
    "#tuple containing elements from both input tuples.\n",
    "def con(tup1,tup2):\n",
    "    return tuple(tup1)+tuple(tup2)\n",
    "print(con(input(\"Enter a tup1\").split(\",\"),input(\"Enter a tup2\").split(\",\")))    "
   ]
  },
  {
   "cell_type": "code",
   "execution_count": 17,
   "id": "697058ee-ac11-4047-a8bd-59629747f126",
   "metadata": {},
   "outputs": [
    {
     "name": "stdin",
     "output_type": "stream",
     "text": [
      "Enter the list 1 comma seperated 1,2,3,4,5\n",
      "Enter the list 2 comma seperated 3,4,5,5,7\n"
     ]
    },
    {
     "name": "stdout",
     "output_type": "stream",
     "text": [
      "(1, 2)\n"
     ]
    }
   ],
   "source": [
    "# 24 Develop a code that prompts the user to input two sets of strings. Then, print the elements that are\n",
    "#present in the first set but not in the second set?\n",
    "def common_elements(tuple1, tuple2):\n",
    "    common_set = set(tuple1) -set(tuple2)\n",
    "    return tuple(common_set)\n",
    "tuple1 = map(int,input(\"Enter the list 1 comma seperated\").split(\",\"))\n",
    "tuple2 = map(int,input(\"Enter the list 2 comma seperated\").split(\",\"))\n",
    "result = common_elements(tuple1, tuple2)\n",
    "print(result)"
   ]
  },
  {
   "cell_type": "code",
   "execution_count": 28,
   "id": "82fce6eb-c1f6-4a54-9039-f00ace15104f",
   "metadata": {},
   "outputs": [
    {
     "name": "stdin",
     "output_type": "stream",
     "text": [
      "Enter the list 1 comma seperated 1,2,3,4,5,6,7\n",
      "Enter the starimg index 1\n",
      "Enter the end index 3\n"
     ]
    },
    {
     "name": "stdout",
     "output_type": "stream",
     "text": [
      "(2, 3)\n"
     ]
    }
   ],
   "source": [
    "# 25 Create a code that takes a tuple and two integers as input. The function should return a new tuple\n",
    "#containing elements from the original tuple within the specified range of indices?\n",
    "def indexing(lis1,staring,end):\n",
    "    return lis1[starting:end]\n",
    "    # for i in range(staring,end):\n",
    "    #     lis2.append(lis[i])\n",
    "    # return lis2    \n",
    "lis1 = tuple(map(int,input(\"Enter the list 1 comma seperated\").split(\",\"))) \n",
    "starting=int(input(\"Enter the starimg index\"))\n",
    "end= int(input(\"Enter the end index\"))\n",
    "print(indexing(lis1,starting,end))"
   ]
  },
  {
   "cell_type": "code",
   "execution_count": 33,
   "id": "db317b18-919b-4e7d-ad8e-ec46141112da",
   "metadata": {},
   "outputs": [
    {
     "name": "stdin",
     "output_type": "stream",
     "text": [
      "Enter Connma sperated list 1 a,b,c,d,e\n",
      "Enter Connma sperated list 2 e,f,g,h,a\n"
     ]
    },
    {
     "name": "stdout",
     "output_type": "stream",
     "text": [
      "{'g', 'b', 'f', 'a', 'h', 'e', 'd', 'c'}\n"
     ]
    }
   ],
   "source": [
    "# 26 Write a code that prompts the user to input two sets of characters. Then, print the union of these two sets?\n",
    "def char_union(lis1,lis2):\n",
    "    lis1=set(lis1.split(\",\"))\n",
    "    lis2=set(lis2.split(\",\"))\n",
    "    return lis1 | lis2\n",
    "print(char_union(input(\"Enter Connma sperated list 1\"),input(\"Enter Connma sperated list 2\")))   "
   ]
  },
  {
   "cell_type": "code",
   "execution_count": 39,
   "id": "1e588e48-921f-4b35-81ab-a824840432e2",
   "metadata": {},
   "outputs": [
    {
     "name": "stdin",
     "output_type": "stream",
     "text": [
      "Enter a comma sperated list 1,2,3,4,4,55,6\n"
     ]
    },
    {
     "name": "stdout",
     "output_type": "stream",
     "text": [
      "Maximum 55 Minimum 1\n"
     ]
    }
   ],
   "source": [
    "# 27 Develop a code that takes a tuple of integers as input. The function should return the maximum and\n",
    "#minimum values from the tuple using tuple unpacking?\n",
    "def max_min(lis1):\n",
    "    lis1=tuple(map(int,lis1.split(\",\")))\n",
    "    max1=max(lis1)\n",
    "    min1=min(lis1)\n",
    "    print(\"Maximum\", max1, \"Minimum\", min1)\n",
    "max_min(input(\"Enter a comma sperated list\")) "
   ]
  },
  {
   "cell_type": "code",
   "execution_count": 41,
   "id": "a877bab7-36e2-40db-ac27-aeaffea47f3b",
   "metadata": {},
   "outputs": [
    {
     "name": "stdin",
     "output_type": "stream",
     "text": [
      "Enter Connma sperated list 1 1,2,3,4,5,6\n",
      "Enter Connma sperated list 2 2,3,4,5,6,3,8\n"
     ]
    },
    {
     "name": "stdout",
     "output_type": "stream",
     "text": [
      "Union {1, 2, 3, 4, 5, 6, 8}\n",
      "Intersection {2, 3, 4, 5, 6}\n",
      "Diffrence {1}\n"
     ]
    }
   ],
   "source": [
    "# 28 Create a code that defines two sets of integers. Then, print the union, intersection, and difference of these two sets?\n",
    "def char_union(lis1,lis2):\n",
    "    lis1=set(map(int,lis1.split(\",\")))\n",
    "    lis2=set(map(int,lis2.split(\",\")))\n",
    "    un = lis1 | lis2\n",
    "    intsection = lis1 & lis2\n",
    "    diff = lis1 - lis2\n",
    "    print(\"Union\", un)\n",
    "    print(\"Intersection\", intsection)\n",
    "    print(\"Diffrence\", diff)\n",
    "char_union(input(\"Enter Connma sperated list 1\"),input(\"Enter Connma sperated list 2\"))   "
   ]
  },
  {
   "cell_type": "code",
   "execution_count": 2,
   "id": "897f168c-4b32-4971-8748-d0210381f547",
   "metadata": {},
   "outputs": [
    {
     "name": "stdin",
     "output_type": "stream",
     "text": [
      "Enter a comma separted list 1,2,3,3,3,3,3,35,6,6,6,\n",
      "Enter to get the count 3\n"
     ]
    },
    {
     "data": {
      "text/plain": [
       "5"
      ]
     },
     "execution_count": 2,
     "metadata": {},
     "output_type": "execute_result"
    }
   ],
   "source": [
    "# 29 Write a code that takes a tuple and an element as input. The function should return the count of\n",
    "#occurrences of the given element in the tuple?\n",
    "def count_occurance(lis1,keyword):\n",
    "    lis1=tuple(lis1.split(\",\"))\n",
    "    return lis1.count(keyword)\n",
    "lis1=input(\"Enter a comma separted list\")\n",
    "keyword=input(\"Enter to get the count\")\n",
    "count_occurance(lis1,keyword)"
   ]
  },
  {
   "cell_type": "code",
   "execution_count": 4,
   "id": "a7e5bf4d-dc9d-4c9e-866d-5556a5db8be3",
   "metadata": {},
   "outputs": [
    {
     "name": "stdin",
     "output_type": "stream",
     "text": [
      "Enter set one spearted 1 by comma 1,2,3,4,5,6\n",
      "Enter set one spearted 2 by comma 5,5,6,7,7,8\n"
     ]
    },
    {
     "data": {
      "text/plain": [
       "{1, 2, 3, 4, 7, 8}"
      ]
     },
     "execution_count": 4,
     "metadata": {},
     "output_type": "execute_result"
    }
   ],
   "source": [
    "# 30 Develop a code that prompts the user to input two sets of strings. Then, print the symmetric difference of\n",
    "#these two sets?\n",
    "def sym_diff(set1,set2):\n",
    "    set1=set(map(int,set1.split(\",\")))\n",
    "    set2=set(map(int,set2.split(\",\")))\n",
    "    return set1^set2\n",
    "set1=input(\"Enter set one spearted 1 by comma\")\n",
    "set2=input(\"Enter set one spearted 2 by comma\")\n",
    "sym_diff(set1,set2)    "
   ]
  },
  {
   "cell_type": "code",
   "execution_count": 28,
   "id": "fc86a463-cbb8-433d-b297-2c566c2bf1e6",
   "metadata": {},
   "outputs": [
    {
     "name": "stdin",
     "output_type": "stream",
     "text": [
      "Enter the comma seperted list 1,2,2,2,25,5,55,5\n"
     ]
    },
    {
     "data": {
      "text/plain": [
       "{'1': 1, '2': 3, '25': 1, '5': 2, '55': 1}"
      ]
     },
     "execution_count": 28,
     "metadata": {},
     "output_type": "execute_result"
    }
   ],
   "source": [
    "# 31 Write a code that takes a list of words as input and returns a dictionary where the keys are unique words\n",
    "#and the values are the frequencies of those words in the input list?\n",
    "def fre(lis1):\n",
    "    dis={}\n",
    "    lis1.strip()\n",
    "    lis1=(lis1.split(\",\"))\n",
    "    for i in lis1:\n",
    "        if i in dis:\n",
    "            dis[i] += 1\n",
    "        else:\n",
    "            dis[i]=1\n",
    "    return dis\n",
    "lis1=input(\"Enter the comma seperted list\")\n",
    "fre(lis1)"
   ]
  },
  {
   "cell_type": "code",
   "execution_count": 36,
   "id": "1467586e-fd27-446c-9c0b-eaf3a0b1f75d",
   "metadata": {},
   "outputs": [
    {
     "name": "stdout",
     "output_type": "stream",
     "text": [
      "{'1': 'AnekPalak', '3': 'Piyush', '2': 'Chauhan'}\n"
     ]
    }
   ],
   "source": [
    "# 32 Write a code that takes two dictionaries as input and merges them into a single dictionary. If there are\n",
    "#common keys, the values should be added together?\n",
    "def dic_add(dis1,dis2):\n",
    "    dis3=dis2.copy()\n",
    "    for i in dis1:\n",
    "        if i in dis2:\n",
    "            dis3[i]=dis1[i]+dis2[i]\n",
    "        else:\n",
    "            dis3[i]=dis1[i]\n",
    "    dis2.update(dis3)\n",
    "    print(dis2)\n",
    "dis1 = {\"1\": \"Anek\", \"2\": \"Chauhan\"}\n",
    "dis2 = {\"1\": \"Palak\", \"3\": \"Piyush\"} \n",
    "dic_add(dis1,dis2)"
   ]
  },
  {
   "cell_type": "code",
   "execution_count": 52,
   "id": "ed1b5812-8af8-4b25-a47c-8f6208b79caa",
   "metadata": {},
   "outputs": [
    {
     "name": "stdout",
     "output_type": "stream",
     "text": [
      "1 Anek\n",
      "2 Chauhan\n",
      "3 {1: 'Palak', 4: 'Piyush'}\n",
      "None\n"
     ]
    }
   ],
   "source": [
    "# 33 Write a code to access a value in a nested dictionary. The function should take the dictionary and a list of\n",
    "#keys as input, and return the corresponding value. If any of the keys do not exist in the dictionary, the\n",
    "#function should return None?\n",
    "def nect_dict(dict1,list1):\n",
    "    for i in list1:\n",
    "        if i in dict1:\n",
    "            print(i,dict1[i])\n",
    "        else:\n",
    "            print(\"None\")\n",
    "dis1 = {1: \"Anek\", 2: \"Chauhan\",3:{1: \"Palak\", 4: \"Piyush\"} }\n",
    "list1=[1,2,3,4]\n",
    "nect_dict(dis1,list1)"
   ]
  },
  {
   "cell_type": "code",
   "execution_count": 54,
   "id": "0223c8e9-907a-40dc-96c9-088853823d76",
   "metadata": {},
   "outputs": [
    {
     "name": "stdout",
     "output_type": "stream",
     "text": [
      "{'b': 2, 'd': 3, 'a': 5, 'c': 8}\n",
      "{'c': 8, 'a': 5, 'd': 3, 'b': 2}\n"
     ]
    }
   ],
   "source": [
    "# 34 Write a code that takes a dictionary as input and returns a sorted version of it based on the values. You\n",
    "#can choose whether to sort in ascending or descending order?\n",
    "def sort_dict_by_values(input_dict, ascending=True):\n",
    "    sorted_items = sorted(input_dict.items(), key=lambda item: item[1], reverse=not ascending)\n",
    "    return dict(sorted_items)\n",
    "my_dict = {\"a\": 5, \"b\": 2, \"c\": 8, \"d\": 3}\n",
    "\n",
    "sorted_dict_asc = sort_dict_by_values(my_dict, ascending=True)\n",
    "print(sorted_dict_asc)\n",
    "\n",
    "sorted_dict_desc = sort_dict_by_values(my_dict, ascending=False)\n",
    "print(sorted_dict_desc)"
   ]
  },
  {
   "cell_type": "code",
   "execution_count": 55,
   "id": "285a665a-2cf5-45ee-a01e-4711c48c04da",
   "metadata": {},
   "outputs": [
    {
     "name": "stdout",
     "output_type": "stream",
     "text": [
      "{1: ['a', 'c'], 2: ['b'], 3: ['d']}\n"
     ]
    }
   ],
   "source": [
    "# 35 Write a code that inverts a dictionary, swapping keys and values. Ensure that the inverted dictionary\n",
    "#correctly handles cases where multiple keys have the same value by storing the keys as a list in the inverted dictionary?\n",
    "def invert_dictionary(input_dict):\n",
    "    inverted_dict = {}\n",
    "    for key, value in input_dict.items():\n",
    "        if value in inverted_dict:\n",
    "            inverted_dict[value].append(key)\n",
    "        else:\n",
    "            inverted_dict[value] = [key]\n",
    "    return inverted_dict\n",
    "\n",
    "my_dict = {\"a\": 1, \"b\": 2, \"c\": 1, \"d\": 3}\n",
    "\n",
    "inverted_dict = invert_dictionary(my_dict)\n",
    "print(inverted_dict)"
   ]
  },
  {
   "cell_type": "code",
   "execution_count": null,
   "id": "fcb6a46b-e72f-4feb-8354-4001b506ed23",
   "metadata": {},
   "outputs": [],
   "source": []
  }
 ],
 "metadata": {
  "kernelspec": {
   "display_name": "Python 3 (ipykernel)",
   "language": "python",
   "name": "python3"
  },
  "language_info": {
   "codemirror_mode": {
    "name": "ipython",
    "version": 3
   },
   "file_extension": ".py",
   "mimetype": "text/x-python",
   "name": "python",
   "nbconvert_exporter": "python",
   "pygments_lexer": "ipython3",
   "version": "3.13.1"
  }
 },
 "nbformat": 4,
 "nbformat_minor": 5
}
